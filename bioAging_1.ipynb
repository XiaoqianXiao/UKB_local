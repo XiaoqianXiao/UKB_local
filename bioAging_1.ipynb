{
 "cells": [
  {
   "metadata": {
    "ExecuteTime": {
     "end_time": "2025-06-03T06:05:24.464550Z",
     "start_time": "2025-06-03T06:05:24.460935Z"
    }
   },
   "cell_type": "code",
   "source": [
    "import numpy as np\n",
    "import pandas as pd\n",
    "from scipy.stats import norm\n",
    "import os\n",
    "import re\n",
    "import ast"
   ],
   "id": "b677278f46fb3e22",
   "outputs": [],
   "execution_count": 133
  },
  {
   "metadata": {
    "ExecuteTime": {
     "end_time": "2025-06-03T06:05:25.330445Z",
     "start_time": "2025-06-03T06:05:25.326415Z"
    }
   },
   "cell_type": "code",
   "source": [
    "def fields_for_id_x(field_id):\n",
    "    field_id = str(field_id)\n",
    "    field_items = re.split(r'[,\\s_]+', field_id)\n",
    "    if len(field_items) == 1:\n",
    "        fields = 'p{}'.format(field_items[0])\n",
    "    elif len(field_items) == 2:\n",
    "        fields = 'p{}_i{}'.format(field_items[0], field_items[1])\n",
    "    return fields\n",
    "\n",
    "import pandas as pd\n",
    "from ast import literal_eval as safe_literal_eval\n",
    "import numpy as np\n",
    "\n",
    "def extract_strings(target_prefixes, icd_codes):\n",
    "    \"\"\"\n",
    "    Extract ICD-10 codes that start with any of the target prefixes.\n",
    "    \n",
    "    Parameters:\n",
    "    - target_prefixes (list): List of prefixes to match.\n",
    "    - icd_codes (list): List of ICD-10 codes.\n",
    "\n",
    "    Returns:\n",
    "    - list: List of matching ICD-10 codes.\n",
    "    \"\"\"\n",
    "    return [code for code in icd_codes if any(code.startswith(prefix) for prefix in target_prefixes)]\n"
   ],
   "id": "e6a9c7261ca6ec63",
   "outputs": [],
   "execution_count": 134
  },
  {
   "metadata": {
    "ExecuteTime": {
     "end_time": "2025-06-03T06:05:26.357637Z",
     "start_time": "2025-06-03T06:05:26.349237Z"
    }
   },
   "cell_type": "code",
   "source": [
    "def kdm_calc(data, biomarkers, fit=None):\n",
    "    \"\"\"\n",
    "    Calculate Klemera-Doubal Method Biological Age (KDM-BA).\n",
    "\n",
    "    Parameters:\n",
    "    - data: pandas DataFrame with biomarker columns and 'age' column\n",
    "    - biomarkers: list of biomarker column names\n",
    "    - fit: dict with 'slope' and 'intercept' for each biomarker (optional)\n",
    "\n",
    "    Returns:\n",
    "    - DataFrame with KDM-BA and advancement (KDM-BA - chronological age)\n",
    "    \"\"\"\n",
    "    if fit is None:\n",
    "        # Default fit parameters (example values, should be trained on NHANES III)\n",
    "        fit = {\n",
    "            bm: {'slope': 0.1, 'intercept': np.mean(data[bm]), 'sd': np.std(data[bm])}\n",
    "            for bm in biomarkers\n",
    "        }\n",
    "\n",
    "    # Calculate KDM-BA\n",
    "    kdm_ba = []\n",
    "    for _, row in data.iterrows():\n",
    "        age = row['age']\n",
    "        num = 0\n",
    "        denom = 0\n",
    "        for bm in biomarkers:\n",
    "            x = row[bm]\n",
    "            k = fit[bm]['slope']\n",
    "            q = fit[bm]['intercept']\n",
    "            s = fit[bm]['sd']\n",
    "            # KDM formula: (biomarker - intercept) / slope contributes to age\n",
    "            num += ((x - q) / s) * (k / s)\n",
    "            denom += (k / s) ** 2\n",
    "        # Final KDM-BA: weighted average of biomarker contributions\n",
    "        kdm = age + (num / denom) if denom != 0 else age\n",
    "        kdm_ba.append(kdm)\n",
    "\n",
    "    result = data.copy()\n",
    "    result['kdm_ba'] = kdm_ba\n",
    "    result['kdm_acceleration'] = result['kdm_ba'] - result['age']\n",
    "    return {'data': result, 'fit': fit}\n",
    "\n",
    "\n",
    "import pandas as pd\n",
    "import numpy as np\n",
    "from lifelines import CoxPHFitter\n",
    "from scipy.stats import norm\n",
    "\n",
    "def phenoage_calc(data, biomarkers, fit=None, orig=True):\n",
    "    \"\"\"\n",
    "    Project Phenotypic Age algorithm onto new data or train a new model.\n",
    "    \n",
    "    Parameters:\n",
    "    -----------\n",
    "    data : pandas.DataFrame\n",
    "        A dataset containing age, survival time, status, and biomarker columns.\n",
    "    biomarkers : list\n",
    "        List of column names for biomarkers used in Phenotypic Age calculation.\n",
    "        Expected: ['Albumin', 'Alkaline_phosphatase', 'Creatinine', 'C-reactive_protein', \n",
    "                   'Glucose', 'White_blood_cell_count', 'Lymphocyte', 'Mean_cell_volume', \n",
    "                   'Red_cell_distribution_width']\n",
    "    fit : lifelines.CoxPHFitter or None\n",
    "        Pre-trained Cox model fit. If None, a new model is trained.\n",
    "    orig : bool\n",
    "        If True, compute the original Phenotypic Age as per Levine 2018.\n",
    "    \n",
    "    Returns:\n",
    "    --------\n",
    "    dict\n",
    "        A dictionary with two keys:\n",
    "        - 'data': DataFrame with added 'phenoage' and 'phenoage_advance' columns.\n",
    "        - 'fit': Trained CoxPHFitter model (if fit was None) or the provided fit.\n",
    "    \"\"\"\n",
    "    # Copy input data to avoid modifying the original\n",
    "    data = data.copy()\n",
    "    \n",
    "    # Define mapping from provided biomarker names to internal names\n",
    "    biomarker_mapping = {\n",
    "        'Albumin': 'albumin',\n",
    "        'Alkaline_phosphatase': 'alp',\n",
    "        'Creatinine': 'creat',\n",
    "        'C-reactive_protein': 'lncrp',  # Will apply log transformation\n",
    "        'Glucose': 'glucose',\n",
    "        'White_blood_cell_count': 'wbc',\n",
    "        'Lymphocyte': 'lymph',\n",
    "        'Mean_cell_volume': 'mcv',\n",
    "        'Red_cell_distribution_width': 'rdw'\n",
    "    }\n",
    "    \n",
    "    # Verify all provided biomarkers are valid\n",
    "    if not all(bm in biomarker_mapping for bm in biomarkers):\n",
    "        raise ValueError(\"Invalid biomarker names provided. Expected: \" + str(list(biomarker_mapping.keys())))\n",
    "    \n",
    "    # Ensure required columns exist\n",
    "    required_cols = ['age', 'time', 'status'] + biomarkers\n",
    "    if not all(col in data.columns for col in required_cols):\n",
    "        raise ValueError(\"Data must contain 'age', 'time', 'status', and all specified biomarkers\")\n",
    "    \n",
    "    # Map biomarker names and apply log transformation for C-reactive protein\n",
    "    internal_biomarkers = [biomarker_mapping[bm] for bm in biomarkers]\n",
    "    data_mapped = data.copy()\n",
    "    if 'C-reactive_protein' in biomarkers:\n",
    "        data_mapped['lncrp'] = np.log(data['C-reactive_protein'] + 1)  # Log transform with offset to handle zeros\n",
    "    for bm, internal_bm in biomarker_mapping.items():\n",
    "        if bm in biomarkers and internal_bm != 'lncrp':\n",
    "            data_mapped[internal_bm] = data[bm]\n",
    "    \n",
    "    # If no fit is provided, train a Cox model\n",
    "    if fit is None:\n",
    "        # Prepare data for Cox model\n",
    "        model_data = data_mapped[internal_biomarkers + ['time', 'status']].dropna()\n",
    "        \n",
    "        # Fit Cox proportional hazards model\n",
    "        cph = CoxPHFitter()\n",
    "        cph.fit(model_data, duration_col='time', event_observed_col='status')\n",
    "        fit = cph\n",
    "    else:\n",
    "        # Use provided fit\n",
    "        cph = fit\n",
    "    \n",
    "    # Compute mortality score (linear predictor from Cox model)\n",
    "    mortality_score = cph.predict_partial_hazard(data_mapped[internal_biomarkers]).values\n",
    "    \n",
    "    # Convert mortality score to Phenotypic Age\n",
    "    if orig:\n",
    "        # Parameters from Levine 2018 (supplementary methods)\n",
    "        gamma = 0.0072973525664  # Gompertz shape parameter\n",
    "        lambda_ = 0.0000201116   # Gompertz scale parameter\n",
    "        \n",
    "        # Compute CDF(120, x) for mortality score\n",
    "        cdf_120 = 1 - np.exp(-lambda_ * np.exp(mortality_score / gamma))\n",
    "        \n",
    "        # Solve for age where CDF_univariate(120, age) = CDF(120, x)\n",
    "        phenoage = -np.log(1 - cdf_120) / lambda_\n",
    "    else:\n",
    "        # For modified Phenotypic Age, use custom parameters\n",
    "        phenoage = mortality_score  # Simplified; adjust based on specific needs\n",
    "    \n",
    "    # Add Phenotypic Age to the dataset\n",
    "    data['phenoage'] = phenoage\n",
    "    data['phenoage_advance'] = data['phenoage'] - data['age']\n",
    "    \n",
    "    return {'data': data, 'fit': fit}"
   ],
   "id": "a79279079be66430",
   "outputs": [],
   "execution_count": 135
  },
  {
   "metadata": {
    "ExecuteTime": {
     "end_time": "2025-06-03T06:05:31.423122Z",
     "start_time": "2025-06-03T06:05:27.768323Z"
    }
   },
   "cell_type": "code",
   "source": [
    "data_dir = '/Users/xiaoqianxiao/UKB/data'\n",
    "participantsInfo_file = 'participants.csv'\n",
    "participantsInfo_file_path = os.path.join(data_dir,participantsInfo_file)\n",
    "data_df = pd.read_csv(participantsInfo_file_path)"
   ],
   "id": "2ef7a5bec888ca80",
   "outputs": [],
   "execution_count": 136
  },
  {
   "metadata": {
    "ExecuteTime": {
     "end_time": "2025-06-03T06:05:38.712582Z",
     "start_time": "2025-06-03T06:05:38.708003Z"
    }
   },
   "cell_type": "code",
   "source": [
    "#data_df = data_df.drop(columns=[\n",
    "                       #  'kdm_ba_InitialAssessmentVisit_x', \n",
    "                       #  'kdm_acceleration_InitialAssessmentVisit_x',\n",
    "                       # 'kdm_ba_RepeatAssessmentVisit_x',\n",
    "                       #  'kdm_acceleration_RepeatAssessmentVisit_x',\n",
    "                       #  'kdm_ba_InitialAssessmentVisit_y',\n",
    "                       #  'kdm_acceleration_InitialAssessmentVisit_y',\n",
    "                       #  'kdm_ba_RepeatAssessmentVisit_y',\n",
    "                       #  'kdm_acceleration_RepeatAssessmentVisit_y','GAD_baseline',\n",
    "#    'GAD_followup'])\n",
    "data_df.columns"
   ],
   "id": "264d99769df6b8f5",
   "outputs": [
    {
     "data": {
      "text/plain": [
       "Index(['eid', 'p3063_i0_a0', 'p3063_i0_a1', 'p3063_i0_a2', 'p3063_i1_a0',\n",
       "       'p3063_i1_a1', 'p3063_i1_a2', 'p3063_i2_a0', 'p3063_i2_a1',\n",
       "       'p3063_i2_a2',\n",
       "       ...\n",
       "       'p2090_i0', 'p2090_i1', 'p2090_i2', 'p2090_i3', 'p2100_i0', 'p2100_i1',\n",
       "       'p2100_i2', 'p2100_i3', 'p20159_i0', 'p20159_i1'],\n",
       "      dtype='object', length=348)"
      ]
     },
     "execution_count": 137,
     "metadata": {},
     "output_type": "execute_result"
    }
   ],
   "execution_count": 137
  },
  {
   "metadata": {
    "ExecuteTime": {
     "end_time": "2025-06-03T06:05:44.323455Z",
     "start_time": "2025-06-03T06:05:44.317116Z"
    }
   },
   "cell_type": "code",
   "source": [
    "# Biological age factors:\n",
    "NumericMemoryTest_fields = ['4282']\n",
    "RDS_fields = ['20507', '20508', '20510', '20513']\n",
    "ProspectiveMemory_fields = ['20018']\n",
    "ReactionTime_fields = ['20023']\n",
    "TreatmentSeeking_fields = ['2090', '2100']\n",
    "SymbolDigitSubstitution_fields = ['20159']\n",
    "biologicalAge_fields = ['3063_i0', '4080_i0', '30690_i0', '30750_i0', \n",
    "                        '30670_i0', '30180_i0', '30270_i0', '30740_i0', \n",
    "                        '30070_i0', '30000_i0', '30600_i0', '30700_i0', '30710_i0', '30610_i0']\n",
    "#demographic factors' field ids, including: eid, sex, age at the first scan, IQ and EA (5)\n",
    "demographic_fields = ['31','21003','20016','6138']\n",
    "# Neuroticism fields\n",
    "neuroticism_fields = ['1920', '1930', '1940', '1950', '1960', '1970', '1980', '1990', \n",
    "                      '2000', '2010', '2020', '2030']\n",
    "# anxiety status files:\n",
    "anxiety_status_fields = ['1970','1980','1990','2070']\n",
    "# current depression or anxiety status while scanning (3)\n",
    "current_status_fields = ['2050','2060','2070']\n",
    "# Self_Reported_Mental_Health (1)\n",
    "Self_Reported_Mental_Health_fields = ['29000','20002','21062']\n",
    "# Ever_Diagnosed_Mental_Health_Problem (1)\n",
    "Ever_Diagnosed_Mental_Health_Problem_fields = ['20544']\n",
    "# Self reported history depression: CIDI (13)\n",
    "history_depression_fields = ['20436','20439','20440','20446','20441','20449','20536','20532','20435','20450','20437']\n",
    "# Self reported history anxiety: CIDI (18)\n",
    "history_anxiety_fields = ['20421','20420','20538','20425','20542','20543','20540','20541','20539','20537','20418','20426','20423','20429','20419','20422','20417','20427']\n",
    "# PHQ (9)\n",
    "PHQ_fields = ['20514','20510','20517','20519','20511','20507','20508','20518','20513']\n",
    "# GAD7 (7)\n",
    "GAD7_fields = ['20506','20509','20520','20515','20516','20505','20512']\n",
    "GAD7_followup_fields = ['28735','29059','29060','29061','29062','29063','29064']\n",
    "# hospital data: ICD10 and ICD9 (2)\n",
    "hospital_data_fields = ['41270','41271']\n",
    "# fMRI data\n",
    "fMRI_fields = ['31016','31018','31019','31015','31014']\n",
    "control_fields = ['20544','20002','20514','20510','20517','20519','20511','20507','20508','20518','20513', '20506','20509','20520','20515','20516','20505','20512']\n",
    "all_fields_ids = biologicalAge_fields + demographic_fields + current_status_fields + Ever_Diagnosed_Mental_Health_Problem_fields + history_depression_fields + history_anxiety_fields + PHQ_fields + GAD7_fields + GAD7_followup_fields + hospital_data_fields + control_fields + fMRI_fields + Self_Reported_Mental_Health_fields + anxiety_status_fields + neuroticism_fields\n",
    "print(\"Number of  all fields needed: \", len(all_fields_ids))"
   ],
   "id": "224f3e37d98f0c17",
   "outputs": [
    {
     "name": "stdout",
     "output_type": "stream",
     "text": [
      "Number of  all fields needed:  118\n"
     ]
    }
   ],
   "execution_count": 138
  },
  {
   "metadata": {
    "ExecuteTime": {
     "end_time": "2025-06-03T06:05:45.164700Z",
     "start_time": "2025-06-03T06:05:45.161513Z"
    }
   },
   "cell_type": "code",
   "source": [
    "biologicalAge_fields = ['3063', '4080', '30690', \n",
    "                        '30750', '30670', '30180', \n",
    "                        '30270', '30740', '30070', \n",
    "                        '30000', '30600', '30700', \n",
    "                        '30710', '30610']\n",
    "biologicalAge_names = ['FEV1', 'SBP', 'Cholesterol', \n",
    "              'Glycated_hemoglobin', 'Blood_urea_nitrogen', 'Lymphocyte', \n",
    "              'Mean_cell_volume', 'Glucose', 'Red_cell_distribution_width',\n",
    "              'White_blood_cell_count', 'Albumin', 'Creatinine', \n",
    "              'C-reactive_protein','Alkaline_phosphatase']\n",
    "biologicalAge_dict = dict(zip(biologicalAge_names, biologicalAge_fields))"
   ],
   "id": "c5d68d77dee2bcae",
   "outputs": [],
   "execution_count": 139
  },
  {
   "metadata": {
    "ExecuteTime": {
     "end_time": "2025-06-03T06:05:46.027007Z",
     "start_time": "2025-06-03T06:05:46.024850Z"
    }
   },
   "cell_type": "code",
   "source": [
    "KDM_BA_biomarkers = ['FEV1', 'SBP', 'Albumin', \n",
    "                     'Alkaline_phosphatase', 'Blood_urea_nitrogen','Creatinine', \n",
    "                     'C-reactive_protein', 'Glycated_hemoglobin','Cholesterol'] \n",
    "KDM_BA_biomarkers_left = ['Albumin', \n",
    "                     'Alkaline_phosphatase', 'Blood_urea_nitrogen','Creatinine', \n",
    "                     'C-reactive_protein', 'Glycated_hemoglobin','Cholesterol']\n",
    "                  \n",
    "phenoAge_biomarkers =['Albumin', 'Alkaline_phosphatase', 'Creatinine', \n",
    "                      'C-reactive_protein', 'Glucose', 'Mean_cell_volume', \n",
    "                      'Red_cell_distribution_width', 'White_blood_cell_count','Lymphocyte']"
   ],
   "id": "dfb181856b24c71e",
   "outputs": [],
   "execution_count": 140
  },
  {
   "metadata": {
    "ExecuteTime": {
     "end_time": "2025-06-03T06:05:47.076333Z",
     "start_time": "2025-06-03T06:05:47.073444Z"
    }
   },
   "cell_type": "code",
   "source": [
    "KDM_BA_fields_left = [biologicalAge_dict[bm] for bm in KDM_BA_biomarkers_left]\n",
    "print(KDM_BA_fields_left)\n",
    "phenoAge_fields = [biologicalAge_dict[bm] for bm in phenoAge_biomarkers]\n",
    "print(phenoAge_fields)"
   ],
   "id": "382ed178ac49f82b",
   "outputs": [
    {
     "name": "stdout",
     "output_type": "stream",
     "text": [
      "['30600', '30610', '30670', '30700', '30710', '30750', '30690']\n",
      "['30600', '30610', '30700', '30710', '30740', '30270', '30070', '30000', '30180']\n"
     ]
    }
   ],
   "execution_count": 141
  },
  {
   "metadata": {
    "ExecuteTime": {
     "end_time": "2025-06-03T06:05:56.397661Z",
     "start_time": "2025-06-03T06:05:48.120547Z"
    }
   },
   "cell_type": "code",
   "source": [
    "pattern = r'^p(' + '|'.join(KDM_BA_fields_left) + r')_i0(_a\\d+)?$'\n",
    "KDM_BA_df = data_df.filter(regex=pattern).copy()\n",
    "KDM_BA_df.columns = KDM_BA_biomarkers_left\n",
    "KDM_BA_df['eid'] = data_df['eid']\n",
    "KDM_BA_df['age'] = data_df.filter(like='21003_i0')\n",
    "KDM_BA_df['FEV1'] = data_df[['p3063_i0_a0', 'p3063_i0_a1', 'p3063_i0_a2']].max(axis=1, skipna=True)\n",
    "KDM_BA_df['SBP'] = data_df[['p4080_i0_a0', 'p4080_i0_a1']].mean(axis=1, skipna=True)\n",
    "kdm_result = kdm_calc(KDM_BA_df, KDM_BA_biomarkers)\n",
    "df_kdm_InitialAssessmentVisit = kdm_result['data'][['eid', 'kdm_ba', 'kdm_acceleration']]\n",
    "df_kdm_InitialAssessmentVisit.columns = ['eid', 'kdm_ba_InitialAssessmentVisit', 'kdm_acceleration_InitialAssessmentVisit']\n",
    "data_df = data_df.merge(df_kdm_InitialAssessmentVisit, on='eid', how='left')"
   ],
   "id": "3c02799217049ede",
   "outputs": [],
   "execution_count": 142
  },
  {
   "metadata": {
    "ExecuteTime": {
     "end_time": "2025-06-03T06:06:10.895127Z",
     "start_time": "2025-06-03T06:06:02.317536Z"
    }
   },
   "cell_type": "code",
   "source": [
    "pattern = r'^p(' + '|'.join(KDM_BA_fields_left) + r')_i1(_a\\d+)?$'\n",
    "KDM_BA_df = data_df.filter(regex=pattern).copy()\n",
    "KDM_BA_df.columns = KDM_BA_biomarkers_left\n",
    "KDM_BA_df['eid'] = data_df['eid']\n",
    "KDM_BA_df['age'] = data_df.filter(like='21003_i1')\n",
    "KDM_BA_df['FEV1'] = data_df[['p3063_i1_a0', 'p3063_i1_a1', 'p3063_i1_a2']].max(axis=1, skipna=True)\n",
    "KDM_BA_df['SBP'] = data_df[['p4080_i1_a0', 'p4080_i1_a1']].mean(axis=1, skipna=True)\n",
    "kdm_result = kdm_calc(KDM_BA_df, KDM_BA_biomarkers)\n",
    "df_kdm_RepeatAssessmentVisit = kdm_result['data'][['eid', 'kdm_ba', 'kdm_acceleration']]\n",
    "df_kdm_RepeatAssessmentVisit.columns = ['eid', 'kdm_ba_RepeatAssessmentVisit', 'kdm_acceleration_RepeatAssessmentVisit']\n",
    "data_df = data_df.merge(df_kdm_RepeatAssessmentVisit, on='eid', how='left')"
   ],
   "id": "8ce22ca3a2d94617",
   "outputs": [],
   "execution_count": 143
  },
  {
   "metadata": {
    "ExecuteTime": {
     "end_time": "2025-06-03T06:06:12.065728Z",
     "start_time": "2025-06-03T06:06:11.985883Z"
    }
   },
   "cell_type": "code",
   "source": [
    "GAD7_fields = ['20506','20509','20520','20515','20516','20505','20512']\n",
    "GAD7_followup_fields = ['28735','29059','29060','29061','29062','29063','29064']\n",
    "pattern = r'^p(' + '|'.join(GAD7_fields) + r')'\n",
    "GAD7_all = data_df.filter(regex=pattern).copy()\n",
    "data_df['GAD_baseline'] = (GAD7_all - 1).sum(axis=1, skipna=False)\n",
    "pattern = r'^p(' + '|'.join(GAD7_followup_fields) + r')'\n",
    "GAD7_all_followup = data_df.filter(regex=pattern).copy()\n",
    "data_df['GAD_followup'] = (GAD7_all_followup).sum(axis=1, skipna=False)\n",
    "data_df['GAD_diff'] = data_df['GAD_followup'] - data_df['GAD_baseline']"
   ],
   "id": "f3389edd934730ba",
   "outputs": [],
   "execution_count": 144
  },
  {
   "metadata": {
    "ExecuteTime": {
     "end_time": "2025-06-03T06:09:10.499365Z",
     "start_time": "2025-06-03T06:09:10.491188Z"
    }
   },
   "cell_type": "code",
   "source": [
    "neuroticism_fields = ['2030']\n",
    "pattern = r'^p(' + '|'.join(neuroticism_fields) + r')'\n",
    "neuroticism = data_df.filter(regex=pattern).copy()\n",
    "data_df['neuroticism_1'] = neuroticism['p2030_i0']\n",
    "data_df['neuroticism_2'] = neuroticism['p2030_i1']\n",
    "data_df['neuroticism_3'] = neuroticism['p2030_i2']\n",
    "data_df['neuroticism_4'] = neuroticism['p2030_i3']"
   ],
   "id": "55e11749eb08123e",
   "outputs": [],
   "execution_count": 149
  },
  {
   "metadata": {
    "ExecuteTime": {
     "end_time": "2025-06-03T17:51:24.000907Z",
     "start_time": "2025-06-03T17:51:23.996197Z"
    }
   },
   "cell_type": "code",
   "source": "neuroticism",
   "id": "997ba15f2a204f00",
   "outputs": [
    {
     "data": {
      "text/plain": [
       "        p2030_i0  p2030_i1  p2030_i2  p2030_i3\n",
       "0            1.0       NaN       NaN       NaN\n",
       "1            0.0       0.0       0.0       NaN\n",
       "2           -1.0       NaN       NaN       NaN\n",
       "3            0.0       NaN       NaN       NaN\n",
       "4            1.0       NaN       NaN       NaN\n",
       "...          ...       ...       ...       ...\n",
       "502126       1.0       NaN       NaN       NaN\n",
       "502127       0.0       NaN       NaN       NaN\n",
       "502128       0.0       NaN       NaN       NaN\n",
       "502129       0.0       NaN       1.0       NaN\n",
       "502130       0.0       NaN       NaN       NaN\n",
       "\n",
       "[502131 rows x 4 columns]"
      ],
      "text/html": [
       "<div>\n",
       "<style scoped>\n",
       "    .dataframe tbody tr th:only-of-type {\n",
       "        vertical-align: middle;\n",
       "    }\n",
       "\n",
       "    .dataframe tbody tr th {\n",
       "        vertical-align: top;\n",
       "    }\n",
       "\n",
       "    .dataframe thead th {\n",
       "        text-align: right;\n",
       "    }\n",
       "</style>\n",
       "<table border=\"1\" class=\"dataframe\">\n",
       "  <thead>\n",
       "    <tr style=\"text-align: right;\">\n",
       "      <th></th>\n",
       "      <th>p2030_i0</th>\n",
       "      <th>p2030_i1</th>\n",
       "      <th>p2030_i2</th>\n",
       "      <th>p2030_i3</th>\n",
       "    </tr>\n",
       "  </thead>\n",
       "  <tbody>\n",
       "    <tr>\n",
       "      <th>0</th>\n",
       "      <td>1.0</td>\n",
       "      <td>NaN</td>\n",
       "      <td>NaN</td>\n",
       "      <td>NaN</td>\n",
       "    </tr>\n",
       "    <tr>\n",
       "      <th>1</th>\n",
       "      <td>0.0</td>\n",
       "      <td>0.0</td>\n",
       "      <td>0.0</td>\n",
       "      <td>NaN</td>\n",
       "    </tr>\n",
       "    <tr>\n",
       "      <th>2</th>\n",
       "      <td>-1.0</td>\n",
       "      <td>NaN</td>\n",
       "      <td>NaN</td>\n",
       "      <td>NaN</td>\n",
       "    </tr>\n",
       "    <tr>\n",
       "      <th>3</th>\n",
       "      <td>0.0</td>\n",
       "      <td>NaN</td>\n",
       "      <td>NaN</td>\n",
       "      <td>NaN</td>\n",
       "    </tr>\n",
       "    <tr>\n",
       "      <th>4</th>\n",
       "      <td>1.0</td>\n",
       "      <td>NaN</td>\n",
       "      <td>NaN</td>\n",
       "      <td>NaN</td>\n",
       "    </tr>\n",
       "    <tr>\n",
       "      <th>...</th>\n",
       "      <td>...</td>\n",
       "      <td>...</td>\n",
       "      <td>...</td>\n",
       "      <td>...</td>\n",
       "    </tr>\n",
       "    <tr>\n",
       "      <th>502126</th>\n",
       "      <td>1.0</td>\n",
       "      <td>NaN</td>\n",
       "      <td>NaN</td>\n",
       "      <td>NaN</td>\n",
       "    </tr>\n",
       "    <tr>\n",
       "      <th>502127</th>\n",
       "      <td>0.0</td>\n",
       "      <td>NaN</td>\n",
       "      <td>NaN</td>\n",
       "      <td>NaN</td>\n",
       "    </tr>\n",
       "    <tr>\n",
       "      <th>502128</th>\n",
       "      <td>0.0</td>\n",
       "      <td>NaN</td>\n",
       "      <td>NaN</td>\n",
       "      <td>NaN</td>\n",
       "    </tr>\n",
       "    <tr>\n",
       "      <th>502129</th>\n",
       "      <td>0.0</td>\n",
       "      <td>NaN</td>\n",
       "      <td>1.0</td>\n",
       "      <td>NaN</td>\n",
       "    </tr>\n",
       "    <tr>\n",
       "      <th>502130</th>\n",
       "      <td>0.0</td>\n",
       "      <td>NaN</td>\n",
       "      <td>NaN</td>\n",
       "      <td>NaN</td>\n",
       "    </tr>\n",
       "  </tbody>\n",
       "</table>\n",
       "<p>502131 rows × 4 columns</p>\n",
       "</div>"
      ]
     },
     "execution_count": 185,
     "metadata": {},
     "output_type": "execute_result"
    }
   ],
   "execution_count": 185
  },
  {
   "metadata": {
    "ExecuteTime": {
     "end_time": "2025-06-03T17:56:17.491707Z",
     "start_time": "2025-06-03T17:56:17.372670Z"
    }
   },
   "cell_type": "code",
   "source": [
    "# Are you a worrier\n",
    "# Worry too long after embarrassment\n",
    "worry_fields = ['1980', '2000']\n",
    "pattern = r'^p(' + '|'.join(TreatmentSeeking_fields) + r')_i0(_a\\d+)?$'\n",
    "worry_all = data_df.filter(regex=pattern).copy()\n",
    "data_df['worry_1'] = (worry_all).sum(axis=1, skipna=False)\n",
    "pattern = r'^p(' + '|'.join(TreatmentSeeking_fields) + r')_i1(_a\\d+)?$'\n",
    "worry_all = data_df.filter(regex=pattern).copy()\n",
    "data_df['worry_2'] = (worry_all).sum(axis=1, skipna=False)\n",
    "pattern = r'^p(' + '|'.join(TreatmentSeeking_fields) + r')_i2(_a\\d+)?$'\n",
    "worry_all = data_df.filter(regex=pattern).copy()\n",
    "data_df['worry_3'] = (worry_all).sum(axis=1, skipna=False)\n",
    "pattern = r'^p(' + '|'.join(TreatmentSeeking_fields) + r')_i3(_a\\d+)?$'\n",
    "worry_all = data_df.filter(regex=pattern).copy()\n",
    "data_df['worry_4'] = (worry_all).sum(axis=1, skipna=False)"
   ],
   "id": "f06415a92d4d7727",
   "outputs": [],
   "execution_count": 194
  },
  {
   "metadata": {
    "ExecuteTime": {
     "end_time": "2025-06-03T17:55:28.134979Z",
     "start_time": "2025-06-03T17:55:28.130537Z"
    }
   },
   "cell_type": "code",
   "source": "data_df['worry_1']",
   "id": "6d6f979e058c3d2",
   "outputs": [
    {
     "data": {
      "text/plain": [
       "0         0.0\n",
       "1         0.0\n",
       "2         1.0\n",
       "3         0.0\n",
       "4         0.0\n",
       "         ... \n",
       "502126    2.0\n",
       "502127    0.0\n",
       "502128    1.0\n",
       "502129    0.0\n",
       "502130    0.0\n",
       "Name: worry_1, Length: 502131, dtype: float64"
      ]
     },
     "execution_count": 193,
     "metadata": {},
     "output_type": "execute_result"
    }
   ],
   "execution_count": 193
  },
  {
   "metadata": {
    "ExecuteTime": {
     "end_time": "2025-06-03T06:11:26.760080Z",
     "start_time": "2025-06-03T06:11:26.751259Z"
    }
   },
   "cell_type": "code",
   "source": [
    "pattern = r'^p(' + '|'.join(NumericMemoryTest_fields) + r')'\n",
    "NumericMemoryTest = data_df.filter(regex=pattern).copy()\n",
    "data_df['NumericMemoryTest_1'] = NumericMemoryTest.iloc[:,0]\n",
    "data_df['NumericMemoryTest_2'] = NumericMemoryTest.iloc[:,1]\n",
    "data_df['NumericMemoryTest_3'] = NumericMemoryTest.iloc[:,2]\n",
    "data_df['NumericMemoryTest_4'] = NumericMemoryTest.iloc[:,3]"
   ],
   "id": "c06ff35182958742",
   "outputs": [],
   "execution_count": 156
  },
  {
   "metadata": {
    "ExecuteTime": {
     "end_time": "2025-06-03T06:16:06.966831Z",
     "start_time": "2025-06-03T06:16:06.919863Z"
    }
   },
   "cell_type": "code",
   "source": [
    "pattern = r'^p(' + '|'.join(RDS_fields) + r')'\n",
    "RDS_all = data_df.filter(regex=pattern).copy()\n",
    "RDS_all = RDS_all.replace(-818, np.nan)\n",
    "data_df['RDS'] = (RDS_all - 1).sum(axis=1, skipna=False)"
   ],
   "id": "456b24a24adaa2a0",
   "outputs": [],
   "execution_count": 162
  },
  {
   "metadata": {
    "ExecuteTime": {
     "end_time": "2025-06-03T06:17:39.360737Z",
     "start_time": "2025-06-03T06:17:39.351504Z"
    }
   },
   "cell_type": "code",
   "source": [
    "pattern = r'^p(' + '|'.join(ProspectiveMemory_fields) + r')'\n",
    "ProspectiveMemory = data_df.filter(regex=pattern).copy()\n",
    "data_df['ProspectiveMemory_1'] = ProspectiveMemory.iloc[:,0]\n",
    "data_df['ProspectiveMemory_2'] = ProspectiveMemory.iloc[:,1]\n",
    "data_df['ProspectiveMemory_3'] = ProspectiveMemory.iloc[:,2]\n",
    "data_df['ProspectiveMemory_4'] = ProspectiveMemory.iloc[:,3]"
   ],
   "id": "ec43a80e6f2d05e2",
   "outputs": [],
   "execution_count": 163
  },
  {
   "metadata": {
    "ExecuteTime": {
     "end_time": "2025-06-03T06:18:31.579900Z",
     "start_time": "2025-06-03T06:18:31.575436Z"
    }
   },
   "cell_type": "code",
   "source": [
    "pattern = r'^p(' + '|'.join(ReactionTime_fields) + r')'\n",
    "ReactionTime = data_df.filter(regex=pattern).copy()\n",
    "data_df['ReactionTime_1'] = ReactionTime.iloc[:,0]\n",
    "data_df['ReactionTime_2'] = ReactionTime.iloc[:,1]\n",
    "data_df['ReactionTime_3'] = ReactionTime.iloc[:,2]\n",
    "data_df['ReactionTime_4'] = ReactionTime.iloc[:,3]"
   ],
   "id": "e952e8ba142803b8",
   "outputs": [],
   "execution_count": 165
  },
  {
   "metadata": {
    "ExecuteTime": {
     "end_time": "2025-06-03T06:23:08.588862Z",
     "start_time": "2025-06-03T06:23:08.551898Z"
    }
   },
   "cell_type": "code",
   "source": [
    "pattern = r'^p(' + '|'.join(TreatmentSeeking_fields) + r')_i1(_a\\d+)?$'\n",
    "TreatmentSeeking_all = data_df.filter(regex=pattern).copy()\n",
    "TreatmentSeeking = TreatmentSeeking_all.sum(axis=1, skipna=False) > 0\n",
    "data_df['TreatmentSeeking'] = TreatmentSeeking"
   ],
   "id": "1679f2e4da1959bb",
   "outputs": [],
   "execution_count": 168
  },
  {
   "metadata": {
    "ExecuteTime": {
     "end_time": "2025-06-03T06:25:29.224930Z",
     "start_time": "2025-06-03T06:25:29.221105Z"
    }
   },
   "cell_type": "code",
   "source": [
    "pattern = r'^p(' + '|'.join(SymbolDigitSubstitution_fields) + r')'\n",
    "SymbolDigitSubstitution = data_df.filter(regex=pattern).copy()\n",
    "data_df['SymbolDigitSubstitution_1'] = SymbolDigitSubstitution.iloc[:,0]\n",
    "data_df['SymbolDigitSubstitution_2'] = SymbolDigitSubstitution.iloc[:,1]"
   ],
   "id": "3030a4c3c3cc6293",
   "outputs": [],
   "execution_count": 174
  },
  {
   "metadata": {
    "ExecuteTime": {
     "end_time": "2025-06-03T17:56:26.843467Z",
     "start_time": "2025-06-03T17:56:26.840138Z"
    }
   },
   "cell_type": "code",
   "source": "data_df.columns",
   "id": "93d5e3cb4eedf561",
   "outputs": [
    {
     "data": {
      "text/plain": [
       "Index(['eid', 'p3063_i0_a0', 'p3063_i0_a1', 'p3063_i0_a2', 'p3063_i1_a0',\n",
       "       'p3063_i1_a1', 'p3063_i1_a2', 'p3063_i2_a0', 'p3063_i2_a1',\n",
       "       'p3063_i2_a2',\n",
       "       ...\n",
       "       'ReactionTime_1', 'ReactionTime_2', 'ReactionTime_3', 'ReactionTime_4',\n",
       "       'SymbolDigitSubstitution_1', 'SymbolDigitSubstitution_2', 'worry_1',\n",
       "       'worry_2', 'worry_3', 'worry_4'],\n",
       "      dtype='object', length=378)"
      ]
     },
     "execution_count": 195,
     "metadata": {},
     "output_type": "execute_result"
    }
   ],
   "execution_count": 195
  },
  {
   "metadata": {
    "ExecuteTime": {
     "end_time": "2025-06-03T17:56:57.855464Z",
     "start_time": "2025-06-03T17:56:28.836658Z"
    }
   },
   "cell_type": "code",
   "source": "data_df.to_csv(participantsInfo_file_path)",
   "id": "2eb3c581ec357571",
   "outputs": [],
   "execution_count": 196
  },
  {
   "metadata": {},
   "cell_type": "code",
   "outputs": [],
   "execution_count": null,
   "source": "",
   "id": "5596977cecb6001"
  }
 ],
 "metadata": {
  "kernelspec": {
   "display_name": "Python 3",
   "language": "python",
   "name": "python3"
  },
  "language_info": {
   "codemirror_mode": {
    "name": "ipython",
    "version": 2
   },
   "file_extension": ".py",
   "mimetype": "text/x-python",
   "name": "python",
   "nbconvert_exporter": "python",
   "pygments_lexer": "ipython2",
   "version": "2.7.6"
  }
 },
 "nbformat": 4,
 "nbformat_minor": 5
}
