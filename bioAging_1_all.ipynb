{
 "cells": [
  {
   "metadata": {
    "ExecuteTime": {
     "end_time": "2025-06-02T05:30:25.483764Z",
     "start_time": "2025-06-02T05:30:25.482157Z"
    }
   },
   "cell_type": "code",
   "source": [
    "import numpy as np\n",
    "import pandas as pd\n",
    "from scipy.stats import norm\n",
    "import os\n",
    "import re\n",
    "import ast"
   ],
   "id": "b677278f46fb3e22",
   "outputs": [],
   "execution_count": 13
  },
  {
   "metadata": {
    "ExecuteTime": {
     "end_time": "2025-06-02T05:30:26.517370Z",
     "start_time": "2025-06-02T05:30:26.513851Z"
    }
   },
   "cell_type": "code",
   "source": [
    "def fields_for_id_x(field_id):\n",
    "    field_id = str(field_id)\n",
    "    field_items = re.split(r'[,\\s_]+', field_id)\n",
    "    if len(field_items) == 1:\n",
    "        fields = 'p{}'.format(field_items[0])\n",
    "    elif len(field_items) == 2:\n",
    "        fields = 'p{}_i{}'.format(field_items[0], field_items[1])\n",
    "    return fields\n",
    "\n",
    "import pandas as pd\n",
    "from ast import literal_eval as safe_literal_eval\n",
    "import numpy as np\n",
    "\n",
    "def extract_strings(target_prefixes, icd_codes):\n",
    "    \"\"\"\n",
    "    Extract ICD-10 codes that start with any of the target prefixes.\n",
    "    \n",
    "    Parameters:\n",
    "    - target_prefixes (list): List of prefixes to match.\n",
    "    - icd_codes (list): List of ICD-10 codes.\n",
    "\n",
    "    Returns:\n",
    "    - list: List of matching ICD-10 codes.\n",
    "    \"\"\"\n",
    "    return [code for code in icd_codes if any(code.startswith(prefix) for prefix in target_prefixes)]\n"
   ],
   "id": "e6a9c7261ca6ec63",
   "outputs": [],
   "execution_count": 14
  },
  {
   "metadata": {
    "ExecuteTime": {
     "end_time": "2025-06-02T05:30:27.457903Z",
     "start_time": "2025-06-02T05:30:27.412349Z"
    }
   },
   "cell_type": "code",
   "source": [
    "def kdm_calc(data, biomarkers, fit=None):\n",
    "    \"\"\"\n",
    "    Calculate Klemera-Doubal Method Biological Age (KDM-BA).\n",
    "\n",
    "    Parameters:\n",
    "    - data: pandas DataFrame with biomarker columns and 'age' column\n",
    "    - biomarkers: list of biomarker column names\n",
    "    - fit: dict with 'slope' and 'intercept' for each biomarker (optional)\n",
    "\n",
    "    Returns:\n",
    "    - DataFrame with KDM-BA and advancement (KDM-BA - chronological age)\n",
    "    \"\"\"\n",
    "    if fit is None:\n",
    "        # Default fit parameters (example values, should be trained on NHANES III)\n",
    "        fit = {\n",
    "            bm: {'slope': 0.1, 'intercept': np.mean(data[bm]), 'sd': np.std(data[bm])}\n",
    "            for bm in biomarkers\n",
    "        }\n",
    "\n",
    "    # Calculate KDM-BA\n",
    "    kdm_ba = []\n",
    "    for _, row in data.iterrows():\n",
    "        age = row['age']\n",
    "        num = 0\n",
    "        denom = 0\n",
    "        for bm in biomarkers:\n",
    "            x = row[bm]\n",
    "            k = fit[bm]['slope']\n",
    "            q = fit[bm]['intercept']\n",
    "            s = fit[bm]['sd']\n",
    "            # KDM formula: (biomarker - intercept) / slope contributes to age\n",
    "            num += ((x - q) / s) * (k / s)\n",
    "            denom += (k / s) ** 2\n",
    "        # Final KDM-BA: weighted average of biomarker contributions\n",
    "        kdm = age + (num / denom) if denom != 0 else age\n",
    "        kdm_ba.append(kdm)\n",
    "\n",
    "    result = data.copy()\n",
    "    result['kdm_ba'] = kdm_ba\n",
    "    result['kdm_acceleration'] = result['kdm_ba'] - result['age']\n",
    "    return {'data': result, 'fit': fit}\n",
    "\n",
    "\n",
    "import pandas as pd\n",
    "import numpy as np\n",
    "from lifelines import CoxPHFitter\n",
    "from scipy.stats import norm\n",
    "\n",
    "def phenoage_calc(data, biomarkers, fit=None, orig=True):\n",
    "    \"\"\"\n",
    "    Project Phenotypic Age algorithm onto new data or train a new model.\n",
    "    \n",
    "    Parameters:\n",
    "    -----------\n",
    "    data : pandas.DataFrame\n",
    "        A dataset containing age, survival time, status, and biomarker columns.\n",
    "    biomarkers : list\n",
    "        List of column names for biomarkers used in Phenotypic Age calculation.\n",
    "        Expected: ['Albumin', 'Alkaline_phosphatase', 'Creatinine', 'C-reactive_protein', \n",
    "                   'Glucose', 'White_blood_cell_count', 'Lymphocyte', 'Mean_cell_volume', \n",
    "                   'Red_cell_distribution_width']\n",
    "    fit : lifelines.CoxPHFitter or None\n",
    "        Pre-trained Cox model fit. If None, a new model is trained.\n",
    "    orig : bool\n",
    "        If True, compute the original Phenotypic Age as per Levine 2018.\n",
    "    \n",
    "    Returns:\n",
    "    --------\n",
    "    dict\n",
    "        A dictionary with two keys:\n",
    "        - 'data': DataFrame with added 'phenoage' and 'phenoage_advance' columns.\n",
    "        - 'fit': Trained CoxPHFitter model (if fit was None) or the provided fit.\n",
    "    \"\"\"\n",
    "    # Copy input data to avoid modifying the original\n",
    "    data = data.copy()\n",
    "    \n",
    "    # Define mapping from provided biomarker names to internal names\n",
    "    biomarker_mapping = {\n",
    "        'Albumin': 'albumin',\n",
    "        'Alkaline_phosphatase': 'alp',\n",
    "        'Creatinine': 'creat',\n",
    "        'C-reactive_protein': 'lncrp',  # Will apply log transformation\n",
    "        'Glucose': 'glucose',\n",
    "        'White_blood_cell_count': 'wbc',\n",
    "        'Lymphocyte': 'lymph',\n",
    "        'Mean_cell_volume': 'mcv',\n",
    "        'Red_cell_distribution_width': 'rdw'\n",
    "    }\n",
    "    \n",
    "    # Verify all provided biomarkers are valid\n",
    "    if not all(bm in biomarker_mapping for bm in biomarkers):\n",
    "        raise ValueError(\"Invalid biomarker names provided. Expected: \" + str(list(biomarker_mapping.keys())))\n",
    "    \n",
    "    # Ensure required columns exist\n",
    "    required_cols = ['age', 'time', 'status'] + biomarkers\n",
    "    if not all(col in data.columns for col in required_cols):\n",
    "        raise ValueError(\"Data must contain 'age', 'time', 'status', and all specified biomarkers\")\n",
    "    \n",
    "    # Map biomarker names and apply log transformation for C-reactive protein\n",
    "    internal_biomarkers = [biomarker_mapping[bm] for bm in biomarkers]\n",
    "    data_mapped = data.copy()\n",
    "    if 'C-reactive_protein' in biomarkers:\n",
    "        data_mapped['lncrp'] = np.log(data['C-reactive_protein'] + 1)  # Log transform with offset to handle zeros\n",
    "    for bm, internal_bm in biomarker_mapping.items():\n",
    "        if bm in biomarkers and internal_bm != 'lncrp':\n",
    "            data_mapped[internal_bm] = data[bm]\n",
    "    \n",
    "    # If no fit is provided, train a Cox model\n",
    "    if fit is None:\n",
    "        # Prepare data for Cox model\n",
    "        model_data = data_mapped[internal_biomarkers + ['time', 'status']].dropna()\n",
    "        \n",
    "        # Fit Cox proportional hazards model\n",
    "        cph = CoxPHFitter()\n",
    "        cph.fit(model_data, duration_col='time', event_observed_col='status')\n",
    "        fit = cph\n",
    "    else:\n",
    "        # Use provided fit\n",
    "        cph = fit\n",
    "    \n",
    "    # Compute mortality score (linear predictor from Cox model)\n",
    "    mortality_score = cph.predict_partial_hazard(data_mapped[internal_biomarkers]).values\n",
    "    \n",
    "    # Convert mortality score to Phenotypic Age\n",
    "    if orig:\n",
    "        # Parameters from Levine 2018 (supplementary methods)\n",
    "        gamma = 0.0072973525664  # Gompertz shape parameter\n",
    "        lambda_ = 0.0000201116   # Gompertz scale parameter\n",
    "        \n",
    "        # Compute CDF(120, x) for mortality score\n",
    "        cdf_120 = 1 - np.exp(-lambda_ * np.exp(mortality_score / gamma))\n",
    "        \n",
    "        # Solve for age where CDF_univariate(120, age) = CDF(120, x)\n",
    "        phenoage = -np.log(1 - cdf_120) / lambda_\n",
    "    else:\n",
    "        # For modified Phenotypic Age, use custom parameters\n",
    "        phenoage = mortality_score  # Simplified; adjust based on specific needs\n",
    "    \n",
    "    # Add Phenotypic Age to the dataset\n",
    "    data['phenoage'] = phenoage\n",
    "    data['phenoage_advance'] = data['phenoage'] - data['age']\n",
    "    \n",
    "    return {'data': data, 'fit': fit}"
   ],
   "id": "a79279079be66430",
   "outputs": [],
   "execution_count": 15
  },
  {
   "metadata": {
    "ExecuteTime": {
     "end_time": "2025-06-02T05:30:31.894308Z",
     "start_time": "2025-06-02T05:30:28.567678Z"
    }
   },
   "cell_type": "code",
   "source": [
    "data_dir = '/Users/xiaoqianxiao/UKB/data'\n",
    "participantsInfo_file = 'participants.csv'\n",
    "participantsInfo_file_path = os.path.join(data_dir,participantsInfo_file)\n",
    "data_df = pd.read_csv(participantsInfo_file_path)"
   ],
   "id": "2ef7a5bec888ca80",
   "outputs": [],
   "execution_count": 16
  },
  {
   "metadata": {
    "ExecuteTime": {
     "end_time": "2025-06-02T05:30:32.954561Z",
     "start_time": "2025-06-02T05:30:32.949884Z"
    }
   },
   "cell_type": "code",
   "source": [
    "# Biological age factors:\n",
    "biologicalAge_fields = ['3063_i0', '4080_i0', '30690_i0', '30750_i0', \n",
    "                        '30670_i0', '30180_i0', '30270_i0', '30740_i0', \n",
    "                        '30070_i0', '30000_i0', '30600_i0', '30700_i0', '30710_i0', '30610_i0']\n",
    "#demographic factors' field ids, including: eid, sex, age at the first scan, IQ and EA (5)\n",
    "demographic_fields = ['31','21003','20016','6138']\n",
    "# Neuroticism fields\n",
    "neuroticism_fields = ['1920', '1930', '1940', '1950', '1960', '1970', '1980', '1990', \n",
    "                      '2000', '2010', '2020', '2030']\n",
    "# anxiety status files:\n",
    "anxiety_status_fields = ['1970','1980','1990','2070']\n",
    "# current depression or anxiety status while scanning (3)\n",
    "current_status_fields = ['2050','2060','2070']\n",
    "# Self_Reported_Mental_Health (1)\n",
    "Self_Reported_Mental_Health_fields = ['29000','20002','21062']\n",
    "# Ever_Diagnosed_Mental_Health_Problem (1)\n",
    "Ever_Diagnosed_Mental_Health_Problem_fields = ['20544']\n",
    "# Self reported history depression: CIDI (13)\n",
    "history_depression_fields = ['20436','20439','20440','20446','20441','20449','20536','20532','20435','20450','20437']\n",
    "# Self reported history anxiety: CIDI (18)\n",
    "history_anxiety_fields = ['20421','20420','20538','20425','20542','20543','20540','20541','20539','20537','20418','20426','20423','20429','20419','20422','20417','20427']\n",
    "# PHQ (9)\n",
    "PHQ_fields = ['20514','20510','20517','20519','20511','20507','20508','20518','20513']\n",
    "# GAD7 (7)\n",
    "GAD7_fields = ['20506','20509','20520','20515','20516','20505','20512']\n",
    "GAD7_followup_fields = ['28735','29059','29060','29061','29062','29063','29064']\n",
    "# hospital data: ICD10 and ICD9 (2)\n",
    "hospital_data_fields = ['41270','41271']\n",
    "# fMRI data\n",
    "fMRI_fields = ['31016','31018','31019','31015','31014']\n",
    "control_fields = ['20544','20002','20514','20510','20517','20519','20511','20507','20508','20518','20513', '20506','20509','20520','20515','20516','20505','20512']\n",
    "all_fields_ids = biologicalAge_fields + demographic_fields + current_status_fields + Ever_Diagnosed_Mental_Health_Problem_fields + history_depression_fields + history_anxiety_fields + PHQ_fields + GAD7_fields + GAD7_followup_fields + hospital_data_fields + control_fields + fMRI_fields + Self_Reported_Mental_Health_fields + anxiety_status_fields + neuroticism_fields\n",
    "print(\"Number of  all fields needed: \", len(all_fields_ids))"
   ],
   "id": "224f3e37d98f0c17",
   "outputs": [
    {
     "name": "stdout",
     "output_type": "stream",
     "text": [
      "Number of  all fields needed:  118\n"
     ]
    }
   ],
   "execution_count": 17
  },
  {
   "metadata": {
    "ExecuteTime": {
     "end_time": "2025-06-02T05:30:34.283907Z",
     "start_time": "2025-06-02T05:30:34.280796Z"
    }
   },
   "cell_type": "code",
   "source": [
    "biologicalAge_fields = ['3063', '4080', '30690', \n",
    "                        '30750', '30670', '30180', \n",
    "                        '30270', '30740', '30070', \n",
    "                        '30000', '30600', '30700', \n",
    "                        '30710', '30610']\n",
    "biologicalAge_names = ['FEV1', 'SBP', 'Cholesterol', \n",
    "              'Glycated_hemoglobin', 'Blood_urea_nitrogen', 'Lymphocyte', \n",
    "              'Mean_cell_volume', 'Glucose', 'Red_cell_distribution_width',\n",
    "              'White_blood_cell_count', 'Albumin', 'Creatinine', \n",
    "              'C-reactive_protein','Alkaline_phosphatase']\n",
    "biologicalAge_dict = dict(zip(biologicalAge_names, biologicalAge_fields))"
   ],
   "id": "c5d68d77dee2bcae",
   "outputs": [],
   "execution_count": 18
  },
  {
   "metadata": {
    "ExecuteTime": {
     "end_time": "2025-06-02T05:30:35.456156Z",
     "start_time": "2025-06-02T05:30:35.453108Z"
    }
   },
   "cell_type": "code",
   "source": [
    "KDM_BA_biomarkers = ['FEV1', 'SBP', 'Albumin', \n",
    "                     'Alkaline_phosphatase', 'Blood_urea_nitrogen','Creatinine', \n",
    "                     'C-reactive_protein', 'Glycated_hemoglobin','Cholesterol'] \n",
    "KDM_BA_biomarkers_left = ['Albumin', \n",
    "                     'Alkaline_phosphatase', 'Blood_urea_nitrogen','Creatinine', \n",
    "                     'C-reactive_protein', 'Glycated_hemoglobin','Cholesterol']\n",
    "                  \n",
    "phenoAge_biomarkers =['Albumin', 'Alkaline_phosphatase', 'Creatinine', \n",
    "                      'C-reactive_protein', 'Glucose', 'Mean_cell_volume', \n",
    "                      'Red_cell_distribution_width', 'White_blood_cell_count','Lymphocyte']"
   ],
   "id": "dfb181856b24c71e",
   "outputs": [],
   "execution_count": 19
  },
  {
   "metadata": {
    "ExecuteTime": {
     "end_time": "2025-06-02T05:30:36.390711Z",
     "start_time": "2025-06-02T05:30:36.387546Z"
    }
   },
   "cell_type": "code",
   "source": [
    "KDM_BA_fields_left = [biologicalAge_dict[bm] for bm in KDM_BA_biomarkers_left]\n",
    "print(KDM_BA_fields_left)\n",
    "phenoAge_fields = [biologicalAge_dict[bm] for bm in phenoAge_biomarkers]\n",
    "print(phenoAge_fields)"
   ],
   "id": "382ed178ac49f82b",
   "outputs": [
    {
     "name": "stdout",
     "output_type": "stream",
     "text": [
      "['30600', '30610', '30670', '30700', '30710', '30750', '30690']\n",
      "['30600', '30610', '30700', '30710', '30740', '30270', '30070', '30000', '30180']\n"
     ]
    }
   ],
   "execution_count": 20
  },
  {
   "metadata": {
    "ExecuteTime": {
     "end_time": "2025-06-02T05:30:37.814034Z",
     "start_time": "2025-06-02T05:30:37.800599Z"
    }
   },
   "cell_type": "code",
   "source": [
    "pattern = r'^p(' + '|'.join(KDM_BA_fields_left) + r')_i0(_a\\d+)?$'\n",
    "KDM_BA_df = data_df.filter(regex=pattern).copy()"
   ],
   "id": "3c02799217049ede",
   "outputs": [],
   "execution_count": 21
  },
  {
   "metadata": {
    "ExecuteTime": {
     "end_time": "2025-06-02T05:30:38.676943Z",
     "start_time": "2025-06-02T05:30:38.672020Z"
    }
   },
   "cell_type": "code",
   "source": [
    "KDM_BA_df.columns = KDM_BA_biomarkers_left\n",
    "KDM_BA_df['eid'] = data_df['eid']\n",
    "KDM_BA_df['age'] = data_df.filter(like='21003_i0')"
   ],
   "id": "8ce22ca3a2d94617",
   "outputs": [],
   "execution_count": 22
  },
  {
   "metadata": {
    "ExecuteTime": {
     "end_time": "2025-06-02T05:30:39.636988Z",
     "start_time": "2025-06-02T05:30:39.553647Z"
    }
   },
   "cell_type": "code",
   "source": [
    "KDM_BA_df['FEV1'] = data_df[['p3063_i0_a0', 'p3063_i0_a1', 'p3063_i0_a2']].max(axis=1, skipna=True)\n",
    "KDM_BA_df['SBP'] = data_df[['p4080_i0_a0', 'p4080_i0_a1']].mean(axis=1, skipna=True)"
   ],
   "id": "70ceabea188b279c",
   "outputs": [],
   "execution_count": 23
  },
  {
   "metadata": {
    "ExecuteTime": {
     "end_time": "2025-06-02T05:31:34.367096Z",
     "start_time": "2025-06-02T05:31:25.941445Z"
    }
   },
   "cell_type": "code",
   "source": [
    "kdm_result = kdm_calc(KDM_BA_df, KDM_BA_biomarkers)\n",
    "df_kdm = kdm_result['data'][['eid', 'kdm_ba', 'kdm_acceleration']]\n",
    "data_df = data_df.merge(df_kdm, on='eid', how='left')"
   ],
   "id": "ecfea1c832c792f0",
   "outputs": [],
   "execution_count": 27
  },
  {
   "metadata": {
    "ExecuteTime": {
     "end_time": "2025-06-02T05:30:49.347804Z",
     "start_time": "2025-06-02T05:30:49.076864Z"
    }
   },
   "cell_type": "code",
   "source": [
    "pattern = r'^p(' + '|'.join(phenoAge_fields) + r')_i0(_a\\d+)?$'\n",
    "phenoAge_df = data_df.filter(regex=pattern).copy()\n",
    "phenoAge_df.columns = phenoAge_biomarkers"
   ],
   "id": "a2ccd9c78a033e49",
   "outputs": [],
   "execution_count": 25
  },
  {
   "metadata": {
    "ExecuteTime": {
     "end_time": "2025-06-02T05:30:50.855199Z",
     "start_time": "2025-06-02T05:30:50.831655Z"
    }
   },
   "cell_type": "code",
   "source": "phenoage_result = phenoage_calc(phenoAge_df, phenoAge_biomarkers, orig=True)",
   "id": "d72018a8afaf99a",
   "outputs": [
    {
     "ename": "ValueError",
     "evalue": "Data must contain 'age', 'time', 'status', and all specified biomarkers",
     "output_type": "error",
     "traceback": [
      "\u001B[0;31m---------------------------------------------------------------------------\u001B[0m",
      "\u001B[0;31mValueError\u001B[0m                                Traceback (most recent call last)",
      "Cell \u001B[0;32mIn[26], line 1\u001B[0m\n\u001B[0;32m----> 1\u001B[0m phenoage_result \u001B[38;5;241m=\u001B[39m \u001B[43mphenoage_calc\u001B[49m\u001B[43m(\u001B[49m\u001B[43mphenoAge_df\u001B[49m\u001B[43m,\u001B[49m\u001B[43m \u001B[49m\u001B[43mphenoAge_biomarkers\u001B[49m\u001B[43m,\u001B[49m\u001B[43m \u001B[49m\u001B[43morig\u001B[49m\u001B[38;5;241;43m=\u001B[39;49m\u001B[38;5;28;43;01mTrue\u001B[39;49;00m\u001B[43m)\u001B[49m\n",
      "Cell \u001B[0;32mIn[15], line 97\u001B[0m, in \u001B[0;36mphenoage_calc\u001B[0;34m(data, biomarkers, fit, orig)\u001B[0m\n\u001B[1;32m     95\u001B[0m required_cols \u001B[38;5;241m=\u001B[39m [\u001B[38;5;124m'\u001B[39m\u001B[38;5;124mage\u001B[39m\u001B[38;5;124m'\u001B[39m, \u001B[38;5;124m'\u001B[39m\u001B[38;5;124mtime\u001B[39m\u001B[38;5;124m'\u001B[39m, \u001B[38;5;124m'\u001B[39m\u001B[38;5;124mstatus\u001B[39m\u001B[38;5;124m'\u001B[39m] \u001B[38;5;241m+\u001B[39m biomarkers\n\u001B[1;32m     96\u001B[0m \u001B[38;5;28;01mif\u001B[39;00m \u001B[38;5;129;01mnot\u001B[39;00m \u001B[38;5;28mall\u001B[39m(col \u001B[38;5;129;01min\u001B[39;00m data\u001B[38;5;241m.\u001B[39mcolumns \u001B[38;5;28;01mfor\u001B[39;00m col \u001B[38;5;129;01min\u001B[39;00m required_cols):\n\u001B[0;32m---> 97\u001B[0m     \u001B[38;5;28;01mraise\u001B[39;00m \u001B[38;5;167;01mValueError\u001B[39;00m(\u001B[38;5;124m\"\u001B[39m\u001B[38;5;124mData must contain \u001B[39m\u001B[38;5;124m'\u001B[39m\u001B[38;5;124mage\u001B[39m\u001B[38;5;124m'\u001B[39m\u001B[38;5;124m, \u001B[39m\u001B[38;5;124m'\u001B[39m\u001B[38;5;124mtime\u001B[39m\u001B[38;5;124m'\u001B[39m\u001B[38;5;124m, \u001B[39m\u001B[38;5;124m'\u001B[39m\u001B[38;5;124mstatus\u001B[39m\u001B[38;5;124m'\u001B[39m\u001B[38;5;124m, and all specified biomarkers\u001B[39m\u001B[38;5;124m\"\u001B[39m)\n\u001B[1;32m     99\u001B[0m \u001B[38;5;66;03m# Map biomarker names and apply log transformation for C-reactive protein\u001B[39;00m\n\u001B[1;32m    100\u001B[0m internal_biomarkers \u001B[38;5;241m=\u001B[39m [biomarker_mapping[bm] \u001B[38;5;28;01mfor\u001B[39;00m bm \u001B[38;5;129;01min\u001B[39;00m biomarkers]\n",
      "\u001B[0;31mValueError\u001B[0m: Data must contain 'age', 'time', 'status', and all specified biomarkers"
     ]
    }
   ],
   "execution_count": 26
  },
  {
   "metadata": {},
   "cell_type": "code",
   "outputs": [],
   "execution_count": null,
   "source": "",
   "id": "bcc173e78504cb1c"
  }
 ],
 "metadata": {
  "kernelspec": {
   "display_name": "Python 3",
   "language": "python",
   "name": "python3"
  },
  "language_info": {
   "codemirror_mode": {
    "name": "ipython",
    "version": 2
   },
   "file_extension": ".py",
   "mimetype": "text/x-python",
   "name": "python",
   "nbconvert_exporter": "python",
   "pygments_lexer": "ipython2",
   "version": "2.7.6"
  }
 },
 "nbformat": 4,
 "nbformat_minor": 5
}
