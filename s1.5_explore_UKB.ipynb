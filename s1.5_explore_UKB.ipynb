{
 "cells": [
  {
   "cell_type": "code",
   "id": "initial_id",
   "metadata": {
    "collapsed": true,
    "ExecuteTime": {
     "end_time": "2025-05-08T19:46:15.010027Z",
     "start_time": "2025-05-08T19:46:14.601914Z"
    }
   },
   "source": [
    "import pandas as pd\n",
    "import numpy as np\n",
    "import os\n",
    "import re\n",
    "import ast"
   ],
   "outputs": [],
   "execution_count": 1
  },
  {
   "metadata": {
    "ExecuteTime": {
     "end_time": "2025-05-08T19:46:33.011255Z",
     "start_time": "2025-05-08T19:46:31.242444Z"
    }
   },
   "cell_type": "code",
   "source": [
    "data_dir = '/Users/xiaoqianxiao/UKB/data'\n",
    "participantsInfo_file = 'participants.csv'\n",
    "participantsInfo_file_path = os.path.join(data_dir,participantsInfo_file)\n",
    "participantsInfo = pd.read_csv(participantsInfo_file_path)"
   ],
   "id": "a04f1a763685b475",
   "outputs": [],
   "execution_count": 2
  },
  {
   "metadata": {
    "ExecuteTime": {
     "end_time": "2025-05-08T20:22:04.000033Z",
     "start_time": "2025-05-08T20:22:03.994102Z"
    }
   },
   "cell_type": "code",
   "source": [
    "#demographic factors' field ids, including: eid, sex, age at the first scan, IQ and EA (5)\n",
    "demographic_fields = ['31','21003_2','20016_2','6138_2']\n",
    "# current depression or anxiety status while scanning (3)\n",
    "current_status_fields = ['2050_2','2060_2','2070_2']\n",
    "# Self_Reported_Mental_Health (1)\n",
    "Self_Reported_Mental_Health_fields = ['29000','20002_i2','21062']\n",
    "# Ever_Diagnosed_Mental_Health_Problem (1)\n",
    "Ever_Diagnosed_Mental_Health_Problem_fields = ['20544']\n",
    "# Self reported history depression: CIDI (13)\n",
    "history_depression_fields = ['20436','20439','20440','20446','20441','20449','20536','20532','20435','20450','20437']\n",
    "# Self reported history anxiety: CIDI (18)\n",
    "history_anxiety_fields = ['20421','20420','20538','20425','20542','20543','20540','20541','20539','20537','20418','20426','20423','20429','20419','20422','20417','20427']\n",
    "# PHQ (9)\n",
    "PHQ_fields = ['20514','20510','20517','20519','20511','20507','20508','20518','20513']\n",
    "# GAD7 (7)\n",
    "GAD7_fields = ['20506','20509','20520','20515','20516','20505','20512']\n",
    "GAD7_followup_fields = ['28735','29059','29060','29061','29062','29063','29064']\n",
    "# hospital data: ICD10 and ICD9 (2)\n",
    "hospital_data_fields = ['41270','41271']\n",
    "# fMRI data\n",
    "fMRI_fields = ['31016','31018','31019','31015','31014']\n",
    "control_fields = ['20544','20002','20514','20510','20517','20519','20511','20507','20508','20518','20513', '20506','20509','20520','20515','20516','20505','20512']\n",
    "all_fields_ids = demographic_fields + current_status_fields + Ever_Diagnosed_Mental_Health_Problem_fields + history_depression_fields + history_anxiety_fields + PHQ_fields + GAD7_fields + GAD7_followup_fields + hospital_data_fields + control_fields + fMRI_fields + Self_Reported_Mental_Health_fields\n",
    "print(\"Number of  all fields needed: \", len(all_fields_ids))"
   ],
   "id": "f047b54496934c30",
   "outputs": [
    {
     "name": "stdout",
     "output_type": "stream",
     "text": [
      "Number of  all fields needed:  88\n"
     ]
    }
   ],
   "execution_count": 4
  },
  {
   "metadata": {},
   "cell_type": "code",
   "outputs": [],
   "execution_count": null,
   "source": "",
   "id": "7deb1660761f2fcb"
  }
 ],
 "metadata": {
  "kernelspec": {
   "display_name": "Python 3",
   "language": "python",
   "name": "python3"
  },
  "language_info": {
   "codemirror_mode": {
    "name": "ipython",
    "version": 2
   },
   "file_extension": ".py",
   "mimetype": "text/x-python",
   "name": "python",
   "nbconvert_exporter": "python",
   "pygments_lexer": "ipython2",
   "version": "2.7.6"
  }
 },
 "nbformat": 4,
 "nbformat_minor": 5
}
