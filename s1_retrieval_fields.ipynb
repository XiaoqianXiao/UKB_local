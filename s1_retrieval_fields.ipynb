{
 "cells": [
  {
   "metadata": {},
   "cell_type": "raw",
   "source": "",
   "id": "13d03f11a3623d9e"
  },
  {
   "metadata": {},
   "cell_type": "code",
   "outputs": [],
   "execution_count": null,
   "source": "# retrieval all fields needed, save in the '/Users/xiaoqianxiao/UKB/data/participants.csv'",
   "id": "2ec18159b508210d"
  },
  {
   "metadata": {
    "ExecuteTime": {
     "end_time": "2024-12-09T23:31:21.716830Z",
     "start_time": "2024-12-09T23:31:21.643581Z"
    }
   },
   "cell_type": "code",
   "source": [
    "# Import packages\n",
    "import pyspark\n",
    "import dxpy\n",
    "import dxdata\n",
    "import re"
   ],
   "id": "1677949a1ef879a5",
   "outputs": [
    {
     "ename": "ModuleNotFoundError",
     "evalue": "No module named 'pyspark'",
     "output_type": "error",
     "traceback": [
      "\u001B[0;31m---------------------------------------------------------------------------\u001B[0m",
      "\u001B[0;31mModuleNotFoundError\u001B[0m                       Traceback (most recent call last)",
      "Cell \u001B[0;32mIn[1], line 2\u001B[0m\n\u001B[1;32m      1\u001B[0m \u001B[38;5;66;03m# Import packages\u001B[39;00m\n\u001B[0;32m----> 2\u001B[0m \u001B[38;5;28;01mimport\u001B[39;00m \u001B[38;5;21;01mpyspark\u001B[39;00m\n\u001B[1;32m      3\u001B[0m \u001B[38;5;28;01mimport\u001B[39;00m \u001B[38;5;21;01mdxpy\u001B[39;00m\n\u001B[1;32m      4\u001B[0m \u001B[38;5;28;01mimport\u001B[39;00m \u001B[38;5;21;01mdxdata\u001B[39;00m\n",
      "\u001B[0;31mModuleNotFoundError\u001B[0m: No module named 'pyspark'"
     ]
    }
   ],
   "execution_count": 1
  },
  {
   "metadata": {},
   "cell_type": "code",
   "outputs": [],
   "execution_count": null,
   "source": [
    "# Spark initialization (Done only once; do not rerun this cell unless you select Kernel -> Restart kernel).\n",
    "sc = pyspark.SparkContext()\n",
    "spark = pyspark.sql.SparkSession(sc)"
   ],
   "id": "d363c45111243788"
  },
  {
   "metadata": {},
   "cell_type": "code",
   "outputs": [],
   "execution_count": null,
   "source": [
    "# Automatically discover dispensed database name and dataset id\n",
    "dispensed_database = dxpy.find_one_data_object(\n",
    "    classname='database', \n",
    "    name='app*', \n",
    "    folder='/', \n",
    "    name_mode='glob', \n",
    "    describe=True)\n",
    "dispensed_database_name = dispensed_database['describe']['name']\n",
    "\n",
    "dispensed_dataset = dxpy.find_one_data_object(\n",
    "    typename='Dataset', \n",
    "    name='app*.dataset', \n",
    "    folder='/', \n",
    "    name_mode='glob')\n",
    "dispensed_dataset_id = dispensed_dataset['id']"
   ],
   "id": "9c8068e513c017e1"
  },
  {
   "metadata": {},
   "cell_type": "code",
   "outputs": [],
   "execution_count": null,
   "source": [
    "#Access dataset\n",
    "#dataset = dxdata.load_dataset(id=dispensed_dataset_id)\n",
    "#dataset = dxdata.load_cohort(folder=\"project-Gkp6BK8J66Pz97X00y3Zz7jJ:/\", name=\"RestingData_1st\")\n",
    "all_info = dxdata.load_cohort(folder=\"/\", name=\"RestingData_1st\")\n",
    "dataset = all_info.dataset"
   ],
   "id": "ade106fcf3d38ae5"
  },
  {
   "metadata": {},
   "cell_type": "code",
   "outputs": [],
   "execution_count": null,
   "source": [
    "#Dataset 'entities' are virtual tables linked to one another.\n",
    "dataset.entities"
   ],
   "id": "3fb7cd98b2fbdc4f"
  },
  {
   "metadata": {},
   "cell_type": "code",
   "outputs": [],
   "execution_count": null,
   "source": [
    "#Accessing the main 'participant' entity\n",
    "participant = dataset['participant']"
   ],
   "id": "6b9fb4a08af9a770"
  },
  {
   "metadata": {},
   "cell_type": "code",
   "outputs": [],
   "execution_count": null,
   "source": "#field_names = ['eid', 'p31', 'p21022', 'p40005_i0', 'p93_i0_a0']",
   "id": "3956ec834dbaf35d"
  },
  {
   "metadata": {},
   "cell_type": "code",
   "outputs": [],
   "execution_count": null,
   "source": [
    "# Returns all field objects for a given UKB showcase field id\n",
    "\n",
    "def fields_for_id(field_id):\n",
    "    from distutils.version import LooseVersion\n",
    "    field_id = str(field_id)\n",
    "    fields = participant.find_fields(name_regex=r'^p{}(_i\\d+)?(_a\\d+)?$'.format(field_id))\n",
    "    return sorted(fields, key=lambda f: LooseVersion(f.name))\n",
    "\n",
    "# Returns all field names for a given UKB showcase field id\n",
    "\n",
    "def field_names_for_id(field_id):\n",
    "    return [f.name for f in fields_for_id(field_id)]"
   ],
   "id": "2264b25ca63e4832"
  },
  {
   "metadata": {
    "ExecuteTime": {
     "end_time": "2024-09-10T21:57:06.117277Z",
     "start_time": "2024-09-10T21:57:06.114323Z"
    }
   },
   "cell_type": "code",
   "source": [
    "def fields_for_id_x(field_id):\n",
    "    field_id = str(field_id)\n",
    "    field_items = re.split(r'[,\\s_]+', field_id)\n",
    "    if len(field_items) == 1:\n",
    "        fields = ['p{}'.format(field_items[0])]\n",
    "    elif len(field_items) == 2:\n",
    "        fields = ['p{}_i{}'.format(field_items[0], field_items[1])]\n",
    "    else:\n",
    "        fields = []\n",
    "    return fields"
   ],
   "id": "4aa1b29b454cf6e8",
   "outputs": [],
   "execution_count": 48
  },
  {
   "metadata": {
    "ExecuteTime": {
     "end_time": "2024-10-21T20:39:40.771902Z",
     "start_time": "2024-10-21T20:39:40.768536Z"
    }
   },
   "cell_type": "code",
   "source": [
    "#demographic factors' field ids, including: eid, sex, age at the first scan, IQ and EA (5)\n",
    "demographic_fields = ['31','21003_2','20016_2','6138_2']\n",
    "# current depression or anxiety status while scanning (3)\n",
    "current_status_fields = ['2050_2','2060_2','2070_2']\n",
    "# Self_Reported_Mental_Health (1)\n",
    "Self_Reported_Mental_Health_fields = ['29000','20002_i2','21062']\n",
    "# Ever_Diagnosed_Mental_Health_Problem (1)\n",
    "Ever_Diagnosed_Mental_Health_Problem_fields = ['20544']\n",
    "# Self reported history depression: CIDI (13)\n",
    "history_depression_fields = ['20436','20439','20440','20446','20441','20449','20536','20532','20435','20450','20437']\n",
    "# Self reported history anxiety: CIDI (18)\n",
    "history_anxiety_fields = ['20421','20420','20538','20425','20542','20543','20540','20541','20539','20537','20418','20426','20423','20429','20419','20422','20417','20427']\n",
    "# PHQ (9)\n",
    "PHQ_fields = ['20514','20510','20517','20519','20511','20507','20508','20518','20513']\n",
    "# GAD7 (7)\n",
    "GAD7_fields = ['20506','20509','20520','20515','20516','20505','20512']\n",
    "# hospital data: ICD10 and ICD9 (2)\n",
    "hospital_data_fields = ['41270','41271']\n",
    "# fMRI data\n",
    "fMRI_fields = ['31016','31018','31019','31015','31014']\n",
    "control_fields = ['20544','20002','20514','20510','20517','20519','20511','20507','20508','20518','20513', '20506','20509','20520','20515','20516','20505','20512']\n",
    "#all_fields_ids = demographic_fields + current_status_fields + Self_Reported_Mental_Health_fields + Ever_Diagnosed_Mental_Health_Problem_fields + history_depression_fields + history_anxiety_fields + PHQ_fields + GAD7_fields + hospital_data_fields\n",
    "all_fields_ids = demographic_fields + current_status_fields + Ever_Diagnosed_Mental_Health_Problem_fields + history_depression_fields + history_anxiety_fields + PHQ_fields + GAD7_fields + hospital_data_fields + control_fields\n",
    "print(\"Number of  all fields needed: \", len(all_fields_ids))"
   ],
   "id": "3521f20b8e9b1a19",
   "outputs": [
    {
     "name": "stdout",
     "output_type": "stream",
     "text": [
      "Number of  all fields needed:  73\n"
     ]
    }
   ],
   "execution_count": 1
  },
  {
   "metadata": {},
   "cell_type": "code",
   "outputs": [],
   "execution_count": null,
   "source": [
    "# sum flattens list of lists\n",
    "#sum([field_names_for_id(field_id) for field_id in all_fields_ids], [])"
   ],
   "id": "e8ebb7c8c2bec643"
  },
  {
   "metadata": {
    "ExecuteTime": {
     "end_time": "2024-10-21T20:39:49.879698Z",
     "start_time": "2024-10-21T20:39:49.799083Z"
    }
   },
   "cell_type": "code",
   "source": [
    "# sum flattens list of lists\n",
    "#field_names = ['eid'] \\\n",
    "#    + sum([field_names_for_id(field_id) for field_id in all_fields_ids], [])\n",
    "field_names = ['eid'] \\\n",
    "             + [item for field_id in all_fields_ids for item in fields_for_id_x(field_id)] \\\n",
    "             + sum([field_names_for_id(field_id) for field_id in fMRI_fields], []) \\\n",
    "             + sum([field_names_for_id(field_id) for field_id in Self_Reported_Mental_Health_fields], [])"
   ],
   "id": "b84219992087261",
   "outputs": [
    {
     "ename": "NameError",
     "evalue": "name 'fields_for_id_x' is not defined",
     "output_type": "error",
     "traceback": [
      "\u001B[0;31m---------------------------------------------------------------------------\u001B[0m",
      "\u001B[0;31mNameError\u001B[0m                                 Traceback (most recent call last)",
      "Cell \u001B[0;32mIn[2], line 5\u001B[0m\n\u001B[1;32m      1\u001B[0m \u001B[38;5;66;03m# sum flattens list of lists\u001B[39;00m\n\u001B[1;32m      2\u001B[0m \u001B[38;5;66;03m#field_names = ['eid'] \\\u001B[39;00m\n\u001B[1;32m      3\u001B[0m \u001B[38;5;66;03m#    + sum([field_names_for_id(field_id) for field_id in all_fields_ids], [])\u001B[39;00m\n\u001B[1;32m      4\u001B[0m field_names \u001B[38;5;241m=\u001B[39m [\u001B[38;5;124m'\u001B[39m\u001B[38;5;124meid\u001B[39m\u001B[38;5;124m'\u001B[39m] \\\n\u001B[0;32m----> 5\u001B[0m              \u001B[38;5;241m+\u001B[39m [item \u001B[38;5;28;01mfor\u001B[39;00m field_id \u001B[38;5;129;01min\u001B[39;00m all_fields_ids \u001B[38;5;28;01mfor\u001B[39;00m item \u001B[38;5;129;01min\u001B[39;00m \u001B[43mfields_for_id_x\u001B[49m(field_id)] \\\n\u001B[1;32m      6\u001B[0m              \u001B[38;5;241m+\u001B[39m \u001B[38;5;28msum\u001B[39m([field_names_for_id(field_id) \u001B[38;5;28;01mfor\u001B[39;00m field_id \u001B[38;5;129;01min\u001B[39;00m fMRI_fields], []) \\\n\u001B[1;32m      7\u001B[0m              \u001B[38;5;241m+\u001B[39m \u001B[38;5;28msum\u001B[39m([field_names_for_id(field_id) \u001B[38;5;28;01mfor\u001B[39;00m field_id \u001B[38;5;129;01min\u001B[39;00m Self_Reported_Mental_Health_fields], [])\n",
      "\u001B[0;31mNameError\u001B[0m: name 'fields_for_id_x' is not defined"
     ]
    }
   ],
   "execution_count": 2
  },
  {
   "metadata": {
    "ExecuteTime": {
     "end_time": "2024-12-05T18:34:48.301111Z",
     "start_time": "2024-12-05T18:34:48.237398Z"
    }
   },
   "cell_type": "code",
   "source": "print(field_names)",
   "id": "8e93452b09c0ad53",
   "outputs": [
    {
     "ename": "NameError",
     "evalue": "name 'field_names' is not defined",
     "output_type": "error",
     "traceback": [
      "\u001B[0;31m---------------------------------------------------------------------------\u001B[0m",
      "\u001B[0;31mNameError\u001B[0m                                 Traceback (most recent call last)",
      "Cell \u001B[0;32mIn[1], line 1\u001B[0m\n\u001B[0;32m----> 1\u001B[0m \u001B[38;5;28mprint\u001B[39m(\u001B[43mfield_names\u001B[49m)\n",
      "\u001B[0;31mNameError\u001B[0m: name 'field_names' is not defined"
     ]
    }
   ],
   "execution_count": 1
  },
  {
   "metadata": {},
   "cell_type": "code",
   "outputs": [],
   "execution_count": null,
   "source": [
    "# Grabbing fields into a Spark DataFrame\n",
    "df = participant.retrieve_fields(names=field_names, engine=dxdata.connect())"
   ],
   "id": "93419e13a0a86b6"
  },
  {
   "metadata": {},
   "cell_type": "code",
   "outputs": [],
   "execution_count": null,
   "source": [
    "# See the first five entries as a Pandas DataFrame:\n",
    "df.limit(5).toPandas()"
   ],
   "id": "53eff615373ba2ed"
  },
  {
   "metadata": {},
   "cell_type": "code",
   "outputs": [],
   "execution_count": null,
   "source": [
    "# Save results\n",
    "# Saving as CSV file\n",
    "df.toPandas().to_csv('participants.csv', index=False)"
   ],
   "id": "9306198e419fddf6"
  },
  {
   "metadata": {},
   "cell_type": "code",
   "outputs": [],
   "execution_count": null,
   "source": [
    "# Writing results back to the project\n",
    "%%bash\n",
    "dx upload participants.csv --dest /"
   ],
   "id": "787303e6e8cec16"
  }
 ],
 "metadata": {
  "kernelspec": {
   "display_name": "Python 3",
   "language": "python",
   "name": "python3"
  },
  "language_info": {
   "codemirror_mode": {
    "name": "ipython",
    "version": 2
   },
   "file_extension": ".py",
   "mimetype": "text/x-python",
   "name": "python",
   "nbconvert_exporter": "python",
   "pygments_lexer": "ipython2",
   "version": "2.7.6"
  }
 },
 "nbformat": 4,
 "nbformat_minor": 5
}
